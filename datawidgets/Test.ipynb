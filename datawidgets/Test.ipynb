{
 "cells": [
  {
   "cell_type": "code",
   "execution_count": null,
   "metadata": {},
   "outputs": [],
   "source": [
    "import dataclasses\n",
    "import ipywidgets as ipyw\n",
    "\n",
    "import layout\n",
    "\n",
    "@dataclasses.dataclass\n",
    "class Test:\n",
    "    a: int = 0\n",
    "    b: float = 0\n",
    "    c: str = ''\n",
    "    d: list = dataclasses.field(default_factory=list)\n",
    "\n",
    "    @layout.sync(observes={'a': 'value', 'b': 'value'}, updates={'d':'options'})\n",
    "    def test_method(self, event):\n",
    "        print(\"Got event\", event)\n",
    "        self.d.append(event['new'])\n",
    "\n",
    "t1 = Test(1, 2)\n",
    "\n",
    "t1widgets = layout.create_widgets(t1)\n",
    "ipyw.VBox(t1widgets)"
   ]
  },
  {
   "cell_type": "code",
   "execution_count": null,
   "metadata": {},
   "outputs": [],
   "source": []
  }
 ],
 "metadata": {
  "kernelspec": {
   "display_name": "Python 3",
   "language": "python",
   "name": "python3"
  },
  "language_info": {
   "codemirror_mode": {
    "name": "ipython",
    "version": 3
   },
   "file_extension": ".py",
   "mimetype": "text/x-python",
   "name": "python",
   "nbconvert_exporter": "python",
   "pygments_lexer": "ipython3",
   "version": "3.7.0"
  }
 },
 "nbformat": 4,
 "nbformat_minor": 2
}
